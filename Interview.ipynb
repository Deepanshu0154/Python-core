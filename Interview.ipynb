{
 "cells": [
  {
   "cell_type": "code",
   "execution_count": null,
   "id": "8db4d706",
   "metadata": {},
   "outputs": [],
   "source": [
    "\n",
    "Question 1\n",
    "Create a function that accepts 3 parameters and checks for equality between any two of them.\n",
    "\n",
    "Your function should return True if 2 or more of the parameters are equal, and false is none of them are equal to any of the others.\n",
    "\n",
    "Modify your function so that strings can be compared to integers if they are equivalent. For example, if the following values are passed to your function:\n",
    "\n",
    "6,5,\"5\"\n",
    "\n",
    "You should modify it so that it returns true instead of false.\n"
   ]
  },
  {
   "cell_type": "code",
   "execution_count": 49,
   "id": "bd10adbb",
   "metadata": {},
   "outputs": [
    {
     "name": "stdout",
     "output_type": "stream",
     "text": [
      "enter x 6\n",
      "enter y 5\n",
      "enter z 5\n",
      "True\n"
     ]
    }
   ],
   "source": [
    "def test(a, b, c):\n",
    "    if (a) == (b) or (a) == (c) or (b) == (c):\n",
    "        return True\n",
    "    else:\n",
    "        return False\n",
    "\n",
    "\n",
    "x=int(input('enter x '))\n",
    "y=int(input('enter y '))\n",
    "z=int(input('enter z '))\n",
    "\n",
    "print(test(x,y,z))"
   ]
  },
  {
   "cell_type": "code",
   "execution_count": 45,
   "id": "0deafd9c",
   "metadata": {},
   "outputs": [
    {
     "name": "stdout",
     "output_type": "stream",
     "text": [
      "enter x 6\n",
      "enter y 5\n",
      "enter z 5\n",
      "False\n"
     ]
    }
   ],
   "source": [
    "def yest1(a, b, c):\n",
    "    if (a) == (b) or (a) == (c) or (b) == (c):\n",
    "        return True\n",
    "    else:\n",
    "        return False\n",
    "\n",
    "\n",
    "x=int(input('enter x '))\n",
    "y=int(input('enter y '))\n",
    "z=input('enter z ')\n",
    "\n",
    "print(test1(x,y,z))"
   ]
  }
 ],
 "metadata": {
  "kernelspec": {
   "display_name": "Python 3",
   "language": "python",
   "name": "python3"
  },
  "language_info": {
   "codemirror_mode": {
    "name": "ipython",
    "version": 3
   },
   "file_extension": ".py",
   "mimetype": "text/x-python",
   "name": "python",
   "nbconvert_exporter": "python",
   "pygments_lexer": "ipython3",
   "version": "3.8.8"
  }
 },
 "nbformat": 4,
 "nbformat_minor": 5
}
