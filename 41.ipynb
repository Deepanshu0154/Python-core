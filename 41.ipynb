{
 "cells": [
  {
   "cell_type": "code",
   "execution_count": 8,
   "id": "7f398081",
   "metadata": {},
   "outputs": [
    {
     "name": "stdout",
     "output_type": "stream",
     "text": [
      "map [1, 4, 3, 16, 5, 36, 7, 64, 9, 100]\n",
      "filter [1, 2, 3, 4, 5, 6, 7, 8, 9, 10]\n"
     ]
    }
   ],
   "source": [
    "#41. Write a program which can map() and filter() to make a list \n",
    "#whose elements are square of even number in [1,2,3,4,5,6,7,8,9,10]. \n",
    "\n",
    "map_list=lambda x:x**2 if x%2==0 else x\n",
    "\n",
    "lis=[1,2,3,4,5,6,7,8,9,10]\n",
    "l7=list(map(map_list,lis))\n",
    "l8=list(filter(map_list,lis))\n",
    "\n",
    "print('map',l7)\n",
    "print('filter',l8)\n"
   ]
  }
 ],
 "metadata": {
  "kernelspec": {
   "display_name": "Python 3",
   "language": "python",
   "name": "python3"
  },
  "language_info": {
   "codemirror_mode": {
    "name": "ipython",
    "version": 3
   },
   "file_extension": ".py",
   "mimetype": "text/x-python",
   "name": "python",
   "nbconvert_exporter": "python",
   "pygments_lexer": "ipython3",
   "version": "3.8.8"
  }
 },
 "nbformat": 4,
 "nbformat_minor": 5
}
