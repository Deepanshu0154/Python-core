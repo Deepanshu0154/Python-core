{
 "cells": [
  {
   "cell_type": "code",
   "execution_count": 2,
   "id": "7f398081",
   "metadata": {},
   "outputs": [
    {
     "name": "stdout",
     "output_type": "stream",
     "text": [
      "area of square is: 0\n",
      "area of square is: 25\n"
     ]
    }
   ],
   "source": [
    "# 54. Define a class named Shape and its subclass Square. \n",
    "# The Square class has an init function which takes a length as argument. \n",
    "# Both classes have a area function which can print the area of the shape where Shape's area is 0 by default. \n",
    "class Shape:\n",
    "    def area():\n",
    "        return 0\n",
    "\n",
    "class square(Shape):\n",
    "    def __init__(self,side=0):\n",
    "        Shape.__init__(self) #to acces the method of  class shape\n",
    "        self.side=side\n",
    "    def area (self):\n",
    "        result=(self.side**2)\n",
    "        print('area of square is:',result)\n",
    "        \n",
    "\n",
    "\n",
    "obj2=square(5)\n",
    "square().area()\n",
    "obj2.area()\n",
    "        \n",
    "        "
   ]
  }
 ],
 "metadata": {
  "kernelspec": {
   "display_name": "Python 3",
   "language": "python",
   "name": "python3"
  },
  "language_info": {
   "codemirror_mode": {
    "name": "ipython",
    "version": 3
   },
   "file_extension": ".py",
   "mimetype": "text/x-python",
   "name": "python",
   "nbconvert_exporter": "python",
   "pygments_lexer": "ipython3",
   "version": "3.8.8"
  }
 },
 "nbformat": 4,
 "nbformat_minor": 5
}
