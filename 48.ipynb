{
 "cells": [
  {
   "cell_type": "code",
   "execution_count": 1,
   "id": "7f398081",
   "metadata": {},
   "outputs": [
    {
     "data": {
      "text/plain": [
       "[2, 4, 6, 8, 10]"
      ]
     },
     "execution_count": 1,
     "metadata": {},
     "output_type": "execute_result"
    }
   ],
   "source": [
    "#48. Write a program which can filter even numbers in a list by using filter function. \n",
    "#The list is: [1,2,3,4,5,6,7,8,9,10]. \n",
    "even_filter= (lambda x: x%2==0 )     \n",
    "LIST=[1,2,3,4,5,6,7,8,9,10]        \n",
    "list(filter(even_filter,LIST))"
   ]
  }
 ],
 "metadata": {
  "kernelspec": {
   "display_name": "Python 3",
   "language": "python",
   "name": "python3"
  },
  "language_info": {
   "codemirror_mode": {
    "name": "ipython",
    "version": 3
   },
   "file_extension": ".py",
   "mimetype": "text/x-python",
   "name": "python",
   "nbconvert_exporter": "python",
   "pygments_lexer": "ipython3",
   "version": "3.8.8"
  }
 },
 "nbformat": 4,
 "nbformat_minor": 5
}
