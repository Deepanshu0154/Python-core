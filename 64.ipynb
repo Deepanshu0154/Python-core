{
 "cells": [
  {
   "cell_type": "code",
   "execution_count": null,
   "id": "7f398081",
   "metadata": {},
   "outputs": [],
   "source": [
    "#64. Write a program to compute: \n",
    "#f(n)=f(n-1)+100 when n>0 and f(0)=1 with a given n input by console (n>0). \n",
    "#If the following n is given as input to the program: 5 \n",
    "#Then, the output of the program should be: 500 \n",
    "def f(n):\n",
    "    if n==0:\n",
    "        return 1\n",
    "    else:\n",
    "        return f(n-1)+100\n",
    "    \n",
    "    \n",
    "    \n",
    "    \n",
    "a=int(input('enter number'))\n",
    "f(a)"
   ]
  }
 ],
 "metadata": {
  "kernelspec": {
   "display_name": "Python 3",
   "language": "python",
   "name": "python3"
  },
  "language_info": {
   "codemirror_mode": {
    "name": "ipython",
    "version": 3
   },
   "file_extension": ".py",
   "mimetype": "text/x-python",
   "name": "python",
   "nbconvert_exporter": "python",
   "pygments_lexer": "ipython3",
   "version": "3.8.8"
  }
 },
 "nbformat": 4,
 "nbformat_minor": 5
}
