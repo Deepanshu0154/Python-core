{
 "cells": [
  {
   "cell_type": "code",
   "execution_count": 2,
   "id": "7f398081",
   "metadata": {},
   "outputs": [
    {
     "name": "stdout",
     "output_type": "stream",
     "text": [
      "enter number10\n",
      "0,2,4,6,8,10\n"
     ]
    }
   ],
   "source": [
    "#66. Please write a program using generator to print the even numbers between 0 and n in comma separated form\n",
    "#while n is input by console. \n",
    "#Example: If the following n is given as input to the program: 10 \n",
    "#Then, the output of the program should be: 0,2,4,6,8,10 \n",
    "\n",
    "def EVEN_numbers(n):\n",
    "    for i in range(n+1):\n",
    "        if i%2==0:\n",
    "             yield(i)\n",
    "l=[] \n",
    "sep=\" \"\n",
    "e=int(input('enter number'))        \n",
    "for x in EVEN_numbers(e):\n",
    "    l.append(x)\n",
    "print(*l,sep=',')\n"
   ]
  }
 ],
 "metadata": {
  "kernelspec": {
   "display_name": "Python 3",
   "language": "python",
   "name": "python3"
  },
  "language_info": {
   "codemirror_mode": {
    "name": "ipython",
    "version": 3
   },
   "file_extension": ".py",
   "mimetype": "text/x-python",
   "name": "python",
   "nbconvert_exporter": "python",
   "pygments_lexer": "ipython3",
   "version": "3.8.8"
  }
 },
 "nbformat": 4,
 "nbformat_minor": 5
}
