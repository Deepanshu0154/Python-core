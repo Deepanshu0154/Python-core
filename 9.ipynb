{
 "cells": [
  {
   "cell_type": "code",
   "execution_count": 4,
   "id": "83ee8f5c",
   "metadata": {},
   "outputs": [
    {
     "name": "stdout",
     "output_type": "stream",
     "text": [
      "enter linesHello world\n",
      "HELLO\n",
      "WORLD\n",
      "enter linesPractice makes perfect\n",
      "PRACTICE\n",
      "MAKES\n",
      "PERFECT\n"
     ]
    }
   ],
   "source": [
    "#9. Write a program that accepts sequence of lines as input and\n",
    "#prints the lines after making all characters in the sentence capitalized.\n",
    "#Suppose the input is supplied to the program: Hello world \n",
    "#Practice makes perfect \n",
    "#Then, the output should be: HELLO WORLD \n",
    "#PRACTICE MAKES PERFECT \n",
    "N=2\n",
    "for j in range(N):\n",
    "    lines=input('enter lines').split(' ')\n",
    "    for i in lines:\n",
    "        print(i.upper())"
   ]
  }
 ],
 "metadata": {
  "kernelspec": {
   "display_name": "Python 3",
   "language": "python",
   "name": "python3"
  },
  "language_info": {
   "codemirror_mode": {
    "name": "ipython",
    "version": 3
   },
   "file_extension": ".py",
   "mimetype": "text/x-python",
   "name": "python",
   "nbconvert_exporter": "python",
   "pygments_lexer": "ipython3",
   "version": "3.8.8"
  }
 },
 "nbformat": 4,
 "nbformat_minor": 5
}
