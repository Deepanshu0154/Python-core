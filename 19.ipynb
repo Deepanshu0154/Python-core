{
 "cells": [
  {
   "cell_type": "code",
   "execution_count": 6,
   "id": "83ee8f5c",
   "metadata": {},
   "outputs": [
    {
     "name": "stdout",
     "output_type": "stream",
     "text": [
      "New\n",
      "to\n",
      "Python\n",
      "or\n",
      "choosing\n",
      "between\n",
      "2\n",
      "and\n",
      "3?\n",
      "Read\n",
      "3.\n"
     ]
    }
   ],
   "source": [
    "#19. Write a method which can calculate square value of number\n",
    "def calculate_square(a):\n",
    "    return a**2\n",
    "calculate_square(8)"
   ]
  }
 ],
 "metadata": {
  "kernelspec": {
   "display_name": "Python 3",
   "language": "python",
   "name": "python3"
  },
  "language_info": {
   "codemirror_mode": {
    "name": "ipython",
    "version": 3
   },
   "file_extension": ".py",
   "mimetype": "text/x-python",
   "name": "python",
   "nbconvert_exporter": "python",
   "pygments_lexer": "ipython3",
   "version": "3.8.8"
  }
 },
 "nbformat": 4,
 "nbformat_minor": 5
}
