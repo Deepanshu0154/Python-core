{
 "cells": [
  {
   "cell_type": "code",
   "execution_count": 1,
   "id": "7f398081",
   "metadata": {},
   "outputs": [
    {
     "name": "stdout",
     "output_type": "stream",
     "text": [
      "enter anythingyeS\n",
      "No\n"
     ]
    }
   ],
   "source": [
    "#47. Write a program which accepts a string as input to print \"Yes\" \n",
    "#if the string is \"yes\" or \"YES\" or \"Yes\", otherwise print \"No\". \n",
    "a=input('enter anything')\n",
    "if a==\"yes\" or a==\"YES\" or a==\"Yes\":\n",
    "    print(\"Yes\")\n",
    "else:\n",
    "    print(\"No\")"
   ]
  },
  {
   "cell_type": "code",
   "execution_count": null,
   "id": "1e72d566",
   "metadata": {},
   "outputs": [],
   "source": []
  }
 ],
 "metadata": {
  "kernelspec": {
   "display_name": "Python 3",
   "language": "python",
   "name": "python3"
  },
  "language_info": {
   "codemirror_mode": {
    "name": "ipython",
    "version": 3
   },
   "file_extension": ".py",
   "mimetype": "text/x-python",
   "name": "python",
   "nbconvert_exporter": "python",
   "pygments_lexer": "ipython3",
   "version": "3.8.8"
  }
 },
 "nbformat": 4,
 "nbformat_minor": 5
}
