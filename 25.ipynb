{
 "cells": [
  {
   "cell_type": "code",
   "execution_count": 6,
   "id": "83ee8f5c",
   "metadata": {},
   "outputs": [
    {
     "name": "stdout",
     "output_type": "stream",
     "text": [
      "enter a number38624\n",
      "even\n"
     ]
    }
   ],
   "source": [
    "#25. Define a function that can accept an integer number as input and print the \"It is an even number\" \n",
    "#if the number is even, otherwise print \"It is an odd number\". \n",
    "def even_odd(num):\n",
    "    if num%2==0:\n",
    "        print('even')\n",
    "    else:\n",
    "        print('odd')\n",
    "    \n",
    "a=int(input('enter a number'))\n",
    "even_odd(a)"
   ]
  }
 ],
 "metadata": {
  "kernelspec": {
   "display_name": "Python 3",
   "language": "python",
   "name": "python3"
  },
  "language_info": {
   "codemirror_mode": {
    "name": "ipython",
    "version": 3
   },
   "file_extension": ".py",
   "mimetype": "text/x-python",
   "name": "python",
   "nbconvert_exporter": "python",
   "pygments_lexer": "ipython3",
   "version": "3.8.8"
  }
 },
 "nbformat": 4,
 "nbformat_minor": 5
}
