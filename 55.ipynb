{
 "cells": [
  {
   "cell_type": "code",
   "execution_count": 4,
   "id": "7f398081",
   "metadata": {},
   "outputs": [
    {
     "name": "stdout",
     "output_type": "stream",
     "text": [
      "enter email addressdeepanshuverma@gmail.com\n",
      "deepanshuverma\n"
     ]
    }
   ],
   "source": [
    "#55. Assuming that we have some email addresses in the \"username@companyname.com\" format, \n",
    "#please write program to print the user name of a given email address. \n",
    "#Both user names and company names are composed of letters only. \n",
    "#If the following email address is given as input to the program: Chandra@gdhdhtc.com \n",
    "#Then, the output of the program should be: Chandra  \n",
    "#In case of input data being supplied to the question, it should be assumed to be a console input. \n",
    "#email_address='deepanshuverma@gmail.com'\n",
    "#Hints: Use \\w to match letters. \n",
    "email_address=input('enter email address')\n",
    "str1=''\n",
    "for i in email_address:\n",
    "    if i!='@':\n",
    "        str1=str1+i\n",
    "        \n",
    "    else:\n",
    "        break\n",
    "print(str1)\n",
    "    \n"
   ]
  }
 ],
 "metadata": {
  "kernelspec": {
   "display_name": "Python 3",
   "language": "python",
   "name": "python3"
  },
  "language_info": {
   "codemirror_mode": {
    "name": "ipython",
    "version": 3
   },
   "file_extension": ".py",
   "mimetype": "text/x-python",
   "name": "python",
   "nbconvert_exporter": "python",
   "pygments_lexer": "ipython3",
   "version": "3.8.8"
  }
 },
 "nbformat": 4,
 "nbformat_minor": 5
}
