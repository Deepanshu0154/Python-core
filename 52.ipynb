{
 "cells": [
  {
   "cell_type": "code",
   "execution_count": 2,
   "id": "7f398081",
   "metadata": {},
   "outputs": [
    {
     "name": "stdout",
     "output_type": "stream",
     "text": [
      "i am american\n"
     ]
    }
   ],
   "source": [
    "#52 Define a class named American which has a static method called printNationality. \n",
    "\n",
    "class American:\n",
    "    @staticmethod\n",
    "    def printNationality():\n",
    "        print(\"i am american\")\n",
    "\n",
    "obj=American()\n",
    "obj.printNationality()\n",
    "\n",
    "\n"
   ]
  }
 ],
 "metadata": {
  "kernelspec": {
   "display_name": "Python 3",
   "language": "python",
   "name": "python3"
  },
  "language_info": {
   "codemirror_mode": {
    "name": "ipython",
    "version": 3
   },
   "file_extension": ".py",
   "mimetype": "text/x-python",
   "name": "python",
   "nbconvert_exporter": "python",
   "pygments_lexer": "ipython3",
   "version": "3.8.8"
  }
 },
 "nbformat": 4,
 "nbformat_minor": 5
}
