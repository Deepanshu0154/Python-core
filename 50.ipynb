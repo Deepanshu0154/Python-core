{
 "cells": [
  {
   "cell_type": "code",
   "execution_count": 3,
   "id": "7f398081",
   "metadata": {},
   "outputs": [
    {
     "name": "stdout",
     "output_type": "stream",
     "text": [
      "map ['odd', 4, 'odd', 16, 'odd', 36, 'odd', 64, 'odd', 100, 'odd', 144, 'odd', 196, 'odd', 256, 'odd', 324, 'odd', 400]\n",
      "filter [1, 2, 3, 4, 5, 6, 7, 8, 9, 10, 11, 12, 13, 14, 15, 16, 17, 18, 19, 20]\n"
     ]
    }
   ],
   "source": [
    "#50. Write a program which can filter() to make a list whose elements are even number between 1 and 20 (both included). \n",
    "\n",
    "L=[]\n",
    "for i in range(1,21):\n",
    "    L.append(i)\n",
    "    \n",
    "even_filter=lambda x:x**2 if x%2==0  else 'odd'\n",
    "a=list(map(even_filter,L))\n",
    "b=list(filter(even_filter,L))\n",
    "print('map',a)\n",
    "print('filter',b)\n",
    "\n"
   ]
  },
  {
   "cell_type": "code",
   "execution_count": null,
   "id": "2333f0bb",
   "metadata": {},
   "outputs": [],
   "source": []
  }
 ],
 "metadata": {
  "kernelspec": {
   "display_name": "Python 3",
   "language": "python",
   "name": "python3"
  },
  "language_info": {
   "codemirror_mode": {
    "name": "ipython",
    "version": 3
   },
   "file_extension": ".py",
   "mimetype": "text/x-python",
   "name": "python",
   "nbconvert_exporter": "python",
   "pygments_lexer": "ipython3",
   "version": "3.8.8"
  }
 },
 "nbformat": 4,
 "nbformat_minor": 5
}
