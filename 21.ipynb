{
 "cells": [
  {
   "cell_type": "code",
   "execution_count": 1,
   "id": "83ee8f5c",
   "metadata": {},
   "outputs": [
    {
     "name": "stdout",
     "output_type": "stream",
     "text": [
      "enter a number9027048177\n"
     ]
    },
    {
     "data": {
      "text/plain": [
       "'9027048177'"
      ]
     },
     "execution_count": 1,
     "metadata": {},
     "output_type": "execute_result"
    }
   ],
   "source": [
    "#27. Define a function that can convert a integer into a string and print it in console. \n",
    "def convert_integer_string(x):\n",
    "    y=str(x)\n",
    "    return y\n",
    "    \n",
    "z=int(input('enter a number'))\n",
    "convert_integer_string(z)"
   ]
  }
 ],
 "metadata": {
  "kernelspec": {
   "display_name": "Python 3",
   "language": "python",
   "name": "python3"
  },
  "language_info": {
   "codemirror_mode": {
    "name": "ipython",
    "version": 3
   },
   "file_extension": ".py",
   "mimetype": "text/x-python",
   "name": "python",
   "nbconvert_exporter": "python",
   "pygments_lexer": "ipython3",
   "version": "3.8.8"
  }
 },
 "nbformat": 4,
 "nbformat_minor": 5
}
