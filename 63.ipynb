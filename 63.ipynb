{
 "cells": [
  {
   "cell_type": "code",
   "execution_count": 6,
   "id": "7f398081",
   "metadata": {},
   "outputs": [
    {
     "name": "stdout",
     "output_type": "stream",
     "text": [
      "no of terms5\n",
      "3.5500000000000003\n",
      "3.55\n"
     ]
    }
   ],
   "source": [
    "#63. Write a program to compute 1/2+2/3+3/4+...+n/n+1 with a given n input by console (n>0). \n",
    "#If the following n is given as input to the program: 5 \n",
    "#Then, the output of the program should be: 3.5\n",
    "\n",
    "num=int(input('no of terms'))\n",
    "expression=0\n",
    "if num<0:\n",
    "    print('Dont enter negative number')\n",
    "elif num==0:\n",
    "    print(expression)\n",
    "else:\n",
    "    for i in range(1,num+1):\n",
    "        expression=expression+(i/(i+1))\n",
    "    print(expression)\n",
    "    print(round(expression,2))"
   ]
  }
 ],
 "metadata": {
  "kernelspec": {
   "display_name": "Python 3",
   "language": "python",
   "name": "python3"
  },
  "language_info": {
   "codemirror_mode": {
    "name": "ipython",
    "version": 3
   },
   "file_extension": ".py",
   "mimetype": "text/x-python",
   "name": "python",
   "nbconvert_exporter": "python",
   "pygments_lexer": "ipython3",
   "version": "3.8.8"
  }
 },
 "nbformat": 4,
 "nbformat_minor": 5
}
