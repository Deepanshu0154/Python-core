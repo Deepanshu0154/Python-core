{
 "cells": [
  {
   "cell_type": "code",
   "execution_count": 2,
   "id": "83ee8f5c",
   "metadata": {},
   "outputs": [
    {
     "data": {
      "text/plain": [
       "[36, 49, 64, 81, 100, 121, 144, 169, 196, 225, 256, 289, 324, 361, 400]"
      ]
     },
     "execution_count": 2,
     "metadata": {},
     "output_type": "execute_result"
    }
   ],
   "source": [
    "#34. Define a function which can generate a list where the values are square of numbers between 1 and 20 (both included).\n",
    "#Then the function needs to print all values except the first 5 elements in the list. \n",
    "def l():\n",
    "    new_l=[L**2 for L in range(1,21)]\n",
    "    return new_l[5:]\n",
    "l()"
   ]
  }
 ],
 "metadata": {
  "kernelspec": {
   "display_name": "Python 3",
   "language": "python",
   "name": "python3"
  },
  "language_info": {
   "codemirror_mode": {
    "name": "ipython",
    "version": 3
   },
   "file_extension": ".py",
   "mimetype": "text/x-python",
   "name": "python",
   "nbconvert_exporter": "python",
   "pygments_lexer": "ipython3",
   "version": "3.8.8"
  }
 },
 "nbformat": 4,
 "nbformat_minor": 5
}
