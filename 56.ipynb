{
 "cells": [
  {
   "cell_type": "code",
   "execution_count": 5,
   "id": "7f398081",
   "metadata": {},
   "outputs": [
    {
     "name": "stdout",
     "output_type": "stream",
     "text": [
      "2 cats and 3 dogs\n",
      "['2', '3']\n"
     ]
    }
   ],
   "source": [
    "#56. Write a program which accepts a sequence of words separated by whitespace as input to \n",
    "#print the words composed of digits only. \n",
    "#If the following words are given as input to the program: 2 cats and 3 dogs. \n",
    "#Then, the output of the program should be: ['2', '3'] \n",
    "#In case of input data being supplied to the question, it should be assumed to be a console input. \n",
    "\n",
    "str1=input().split()\n",
    "\n",
    "li=[]\n",
    "for i in str1:\n",
    "    if i.isnumeric():\n",
    "        li.append(i)\n",
    "\n",
    "print(li)\n"
   ]
  }
 ],
 "metadata": {
  "kernelspec": {
   "display_name": "Python 3",
   "language": "python",
   "name": "python3"
  },
  "language_info": {
   "codemirror_mode": {
    "name": "ipython",
    "version": 3
   },
   "file_extension": ".py",
   "mimetype": "text/x-python",
   "name": "python",
   "nbconvert_exporter": "python",
   "pygments_lexer": "ipython3",
   "version": "3.8.8"
  }
 },
 "nbformat": 4,
 "nbformat_minor": 5
}
