{
 "cells": [
  {
   "cell_type": "code",
   "execution_count": 2,
   "id": "83ee8f5c",
   "metadata": {},
   "outputs": [
    {
     "name": "stdout",
     "output_type": "stream",
     "text": [
      "DEEPANSHU\n"
     ]
    }
   ],
   "source": [
    "#5. Define a class which has at least two methods: getString: to get a string from console input printString: \n",
    "#to print the string in upper case. \n",
    "#Also please include simple test function to test the class methods. \n",
    "class A:\n",
    "    def __init__(self,string):\n",
    "        self.string=string\n",
    "        \n",
    "    def getstring(self):\n",
    "        print(self.string.upper())\n",
    "        \n",
    "obj=A('deepanshu')\n",
    "obj.getstring()"
   ]
  }
 ],
 "metadata": {
  "kernelspec": {
   "display_name": "Python 3",
   "language": "python",
   "name": "python3"
  },
  "language_info": {
   "codemirror_mode": {
    "name": "ipython",
    "version": 3
   },
   "file_extension": ".py",
   "mimetype": "text/x-python",
   "name": "python",
   "nbconvert_exporter": "python",
   "pygments_lexer": "ipython3",
   "version": "3.8.8"
  }
 },
 "nbformat": 4,
 "nbformat_minor": 5
}
