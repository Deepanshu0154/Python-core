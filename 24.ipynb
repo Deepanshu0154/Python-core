{
 "cells": [
  {
   "cell_type": "code",
   "execution_count": 5,
   "id": "83ee8f5c",
   "metadata": {},
   "outputs": [
    {
     "name": "stdout",
     "output_type": "stream",
     "text": [
      "enter anythingdeepanshu \n",
      "enter anythingverma @111233ked\n",
      "string2 16 verma @111233ked\n"
     ]
    }
   ],
   "source": [
    "#24. Define a function that can accept two strings as input and print the string with maximum length in console. \n",
    "#If two strings have the same length, then the function should print al l strings line by line. \n",
    "def function(str1,str2):       \n",
    "    if len(str1)==len(str2):\n",
    "        for i in str1:\n",
    "            print(i)\n",
    "        for j in str2:\n",
    "            print(j)\n",
    "\n",
    "    elif len(str1)>len(str2):\n",
    "        print('string1',str1,len(str1))\n",
    "    else:\n",
    "        print('string2',len(str2),str2)\n",
    "        \n",
    "a=input('enter anything')\n",
    "b=input('enter anything')\n",
    "function(a,b)\n",
    "    \n",
    "\n",
    "    "
   ]
  }
 ],
 "metadata": {
  "kernelspec": {
   "display_name": "Python 3",
   "language": "python",
   "name": "python3"
  },
  "language_info": {
   "codemirror_mode": {
    "name": "ipython",
    "version": 3
   },
   "file_extension": ".py",
   "mimetype": "text/x-python",
   "name": "python",
   "nbconvert_exporter": "python",
   "pygments_lexer": "ipython3",
   "version": "3.8.8"
  }
 },
 "nbformat": 4,
 "nbformat_minor": 5
}
