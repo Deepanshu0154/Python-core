{
 "cells": [
  {
   "cell_type": "code",
   "execution_count": 1,
   "id": "83ee8f5c",
   "metadata": {},
   "outputs": [
    {
     "data": {
      "text/plain": [
       "[256, 289, 324, 361, 400]"
      ]
     },
     "execution_count": 1,
     "metadata": {},
     "output_type": "execute_result"
    }
   ],
   "source": [
    "#33. Define a function which can generate a list where the values are square of numbers between 1 and 20 (both included). \n",
    "#Then the function needs to print the last 5 elements in the list. \n",
    "def li():\n",
    "    new_lis=[l**2 for l in range(1,21)]\n",
    "    return new_lis[-5:]\n",
    "li()"
   ]
  }
 ],
 "metadata": {
  "kernelspec": {
   "display_name": "Python 3",
   "language": "python",
   "name": "python3"
  },
  "language_info": {
   "codemirror_mode": {
    "name": "ipython",
    "version": 3
   },
   "file_extension": ".py",
   "mimetype": "text/x-python",
   "name": "python",
   "nbconvert_exporter": "python",
   "pygments_lexer": "ipython3",
   "version": "3.8.8"
  }
 },
 "nbformat": 4,
 "nbformat_minor": 5
}
